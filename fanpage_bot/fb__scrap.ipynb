{
 "cells": [
  {
   "cell_type": "code",
   "execution_count": 29,
   "metadata": {},
   "outputs": [
    {
     "name": "stderr",
     "output_type": "stream",
     "text": [
      "c:\\Users\\Sysme Hue\\AppData\\Local\\Programs\\Python\\Python310\\lib\\site-packages\\tqdm\\auto.py:21: TqdmWarning: IProgress not found. Please update jupyter and ipywidgets. See https://ipywidgets.readthedocs.io/en/stable/user_install.html\n",
      "  from .autonotebook import tqdm as notebook_tqdm\n"
     ]
    }
   ],
   "source": [
    "# Import thư viện cần thiết\n",
    "from facebook_scraper import get_posts\n",
    "import pandas as pd\n",
    "import matplotlib.pyplot as plt\n",
    "import seaborn as sns"
   ]
  },
  {
   "cell_type": "code",
   "execution_count": 4,
   "metadata": {},
   "outputs": [],
   "source": [
    "from selenium.webdriver.common.by import By\n",
    "from selenium.webdriver import ChromeOptions, Chrome\n",
    "from selenium.webdriver.chrome.service import Service\n",
    "import pandas as pd\n",
    "import re\n",
    "from time import sleep\n",
    "import random"
   ]
  },
  {
   "cell_type": "code",
   "execution_count": 5,
   "metadata": {},
   "outputs": [],
   "source": [
    "from selenium.webdriver.common.action_chains import ActionChains\n",
    "import numpy as np"
   ]
  },
  {
   "cell_type": "code",
   "execution_count": 6,
   "metadata": {},
   "outputs": [],
   "source": [
    "username = \"yelan482@gmail.com\"\n",
    "password = \"Linhcute542002\"\n",
    "\n",
    "df = pd.read_csv(\"../datasets/data.csv\")\n",
    "# Options\n",
    "\n",
    "service = Service(executable_path='chromedriver.exe')\n",
    "options = ChromeOptions()\n",
    "options.add_experimental_option(\"detach\", True)\n",
    "options.add_argument(\"--disable-extensions\")\n",
    "# options.add_argument(\"--headless\")\n",
    "options.add_argument(\"--incognito\")\n",
    "options.add_argument(\"--window-size=1920x1080\")\n",
    "\n",
    "browser = Chrome(service=service, options=options)"
   ]
  },
  {
   "cell_type": "code",
   "execution_count": 7,
   "metadata": {},
   "outputs": [],
   "source": [
    "browser.get(\"https://www.facebook.com/\")\n",
    "assert \"Facebook\" in browser.title\n",
    "elem = browser.find_element(By.ID, \"email\")\n",
    "elem.send_keys(username)\n",
    "elem = browser.find_element(By.ID, \"pass\")\n",
    "elem.send_keys(password)\n",
    "\n",
    "browser.find_element(By.NAME, \"login\").click()\n",
    "sleep(random.randint(3, 5))\n"
   ]
  },
  {
   "cell_type": "code",
   "execution_count": 61,
   "metadata": {},
   "outputs": [],
   "source": [
    "browser.get(\"https://www.facebook.com/DoantruongQuocHoc\")"
   ]
  },
  {
   "cell_type": "code",
   "execution_count": 62,
   "metadata": {},
   "outputs": [],
   "source": [
    "sleep(3)\n",
    "browser.execute_script(\"window.scrollTo(0, document.body.scrollHeight);\")"
   ]
  },
  {
   "cell_type": "code",
   "execution_count": 71,
   "metadata": {},
   "outputs": [
    {
     "ename": "InvalidSelectorException",
     "evalue": "Message: invalid selector: Unable to locate an element with the xpath expression /html/body/div[1]/div/div[1]/div/div[3]/div/div/div/div[1]/div[1]/div/div/div[4]/div[2]/div/div[2]/div[3]/div[{p}]/div/div/div/div/div/div/div/div/div/div/div[2]/div/div/div[4]/div/div/div[1]/div/div[1]/div/div[1]/div/span/div/span[2]/span/span because of the following error:\nSyntaxError: Failed to execute 'evaluate' on 'Document': The string '/html/body/div[1]/div/div[1]/div/div[3]/div/div/div/div[1]/div[1]/div/div/div[4]/div[2]/div/div[2]/div[3]/div[{p}]/div/div/div/div/div/div/div/div/div/div/div[2]/div/div/div[4]/div/div/div[1]/div/div[1]/div/div[1]/div/span/div/span[2]/span/span' is not a valid XPath expression.\n  (Session info: chrome=116.0.5845.179); For documentation on this error, please visit: https://www.selenium.dev/documentation/webdriver/troubleshooting/errors#invalid-selector-exception\nStacktrace:\n\tGetHandleVerifier [0x00007FF7AF9352A2+57122]\n\t(No symbol) [0x00007FF7AF8AEA92]\n\t(No symbol) [0x00007FF7AF77E3AB]\n\t(No symbol) [0x00007FF7AF782382]\n\t(No symbol) [0x00007FF7AF783D2F]\n\t(No symbol) [0x00007FF7AF783E20]\n\t(No symbol) [0x00007FF7AF7B79B1]\n\t(No symbol) [0x00007FF7AF7B7E2C]\n\t(No symbol) [0x00007FF7AF7F0B67]\n\t(No symbol) [0x00007FF7AF7D701F]\n\t(No symbol) [0x00007FF7AF7EEB82]\n\t(No symbol) [0x00007FF7AF7D6DB3]\n\t(No symbol) [0x00007FF7AF7AD2B1]\n\t(No symbol) [0x00007FF7AF7AE494]\n\tGetHandleVerifier [0x00007FF7AFBDEF82+2849794]\n\tGetHandleVerifier [0x00007FF7AFC31D24+3189156]\n\tGetHandleVerifier [0x00007FF7AFC2ACAF+3160367]\n\tGetHandleVerifier [0x00007FF7AF9C6D06+653702]\n\t(No symbol) [0x00007FF7AF8BA208]\n\t(No symbol) [0x00007FF7AF8B62C4]\n\t(No symbol) [0x00007FF7AF8B63F6]\n\t(No symbol) [0x00007FF7AF8A67A3]\n\tBaseThreadInitThunk [0x00007FFB27317034+20]\n\tRtlUserThreadStart [0x00007FFB286426A1+33]\n",
     "output_type": "error",
     "traceback": [
      "\u001b[1;31m---------------------------------------------------------------------------\u001b[0m",
      "\u001b[1;31mInvalidSelectorException\u001b[0m                  Traceback (most recent call last)",
      "Cell \u001b[1;32mIn[71], line 3\u001b[0m\n\u001b[0;32m      1\u001b[0m \u001b[39mfor\u001b[39;00m p \u001b[39min\u001b[39;00m \u001b[39mrange\u001b[39m(\u001b[39m1\u001b[39m, \u001b[39m2\u001b[39m):\n\u001b[0;32m      2\u001b[0m     p \u001b[39m=\u001b[39m \u001b[39mstr\u001b[39m(p)\n\u001b[1;32m----> 3\u001b[0m     selfelement \u001b[39m=\u001b[39m browser\u001b[39m.\u001b[39;49mfind_element(By\u001b[39m.\u001b[39;49mXPATH,\u001b[39m\"\u001b[39;49m\u001b[39m/html/body/div[1]/div/div[1]/div/div[3]/div/div/div/div[1]/div[1]/div/div/div[4]/div[2]/div/div[2]/div[3]/div[\u001b[39;49m\u001b[39m{p}\u001b[39;49;00m\u001b[39m]/div/div/div/div/div/div/div/div/div/div/div[2]/div/div/div[4]/div/div/div[1]/div/div[1]/div/div[1]/div/span/div/span[2]/span/span\u001b[39;49m\u001b[39m\"\u001b[39;49m)\n",
      "File \u001b[1;32mc:\\Users\\Sysme Hue\\AppData\\Local\\Programs\\Python\\Python310\\lib\\site-packages\\selenium\\webdriver\\remote\\webdriver.py:738\u001b[0m, in \u001b[0;36mWebDriver.find_element\u001b[1;34m(self, by, value)\u001b[0m\n\u001b[0;32m    735\u001b[0m     by \u001b[39m=\u001b[39m By\u001b[39m.\u001b[39mCSS_SELECTOR\n\u001b[0;32m    736\u001b[0m     value \u001b[39m=\u001b[39m \u001b[39mf\u001b[39m\u001b[39m'\u001b[39m\u001b[39m[name=\u001b[39m\u001b[39m\"\u001b[39m\u001b[39m{\u001b[39;00mvalue\u001b[39m}\u001b[39;00m\u001b[39m\"\u001b[39m\u001b[39m]\u001b[39m\u001b[39m'\u001b[39m\n\u001b[1;32m--> 738\u001b[0m \u001b[39mreturn\u001b[39;00m \u001b[39mself\u001b[39;49m\u001b[39m.\u001b[39;49mexecute(Command\u001b[39m.\u001b[39;49mFIND_ELEMENT, {\u001b[39m\"\u001b[39;49m\u001b[39musing\u001b[39;49m\u001b[39m\"\u001b[39;49m: by, \u001b[39m\"\u001b[39;49m\u001b[39mvalue\u001b[39;49m\u001b[39m\"\u001b[39;49m: value})[\u001b[39m\"\u001b[39m\u001b[39mvalue\u001b[39m\u001b[39m\"\u001b[39m]\n",
      "File \u001b[1;32mc:\\Users\\Sysme Hue\\AppData\\Local\\Programs\\Python\\Python310\\lib\\site-packages\\selenium\\webdriver\\remote\\webdriver.py:344\u001b[0m, in \u001b[0;36mWebDriver.execute\u001b[1;34m(self, driver_command, params)\u001b[0m\n\u001b[0;32m    342\u001b[0m response \u001b[39m=\u001b[39m \u001b[39mself\u001b[39m\u001b[39m.\u001b[39mcommand_executor\u001b[39m.\u001b[39mexecute(driver_command, params)\n\u001b[0;32m    343\u001b[0m \u001b[39mif\u001b[39;00m response:\n\u001b[1;32m--> 344\u001b[0m     \u001b[39mself\u001b[39;49m\u001b[39m.\u001b[39;49merror_handler\u001b[39m.\u001b[39;49mcheck_response(response)\n\u001b[0;32m    345\u001b[0m     response[\u001b[39m\"\u001b[39m\u001b[39mvalue\u001b[39m\u001b[39m\"\u001b[39m] \u001b[39m=\u001b[39m \u001b[39mself\u001b[39m\u001b[39m.\u001b[39m_unwrap_value(response\u001b[39m.\u001b[39mget(\u001b[39m\"\u001b[39m\u001b[39mvalue\u001b[39m\u001b[39m\"\u001b[39m, \u001b[39mNone\u001b[39;00m))\n\u001b[0;32m    346\u001b[0m     \u001b[39mreturn\u001b[39;00m response\n",
      "File \u001b[1;32mc:\\Users\\Sysme Hue\\AppData\\Local\\Programs\\Python\\Python310\\lib\\site-packages\\selenium\\webdriver\\remote\\errorhandler.py:229\u001b[0m, in \u001b[0;36mErrorHandler.check_response\u001b[1;34m(self, response)\u001b[0m\n\u001b[0;32m    227\u001b[0m         alert_text \u001b[39m=\u001b[39m value[\u001b[39m\"\u001b[39m\u001b[39malert\u001b[39m\u001b[39m\"\u001b[39m]\u001b[39m.\u001b[39mget(\u001b[39m\"\u001b[39m\u001b[39mtext\u001b[39m\u001b[39m\"\u001b[39m)\n\u001b[0;32m    228\u001b[0m     \u001b[39mraise\u001b[39;00m exception_class(message, screen, stacktrace, alert_text)  \u001b[39m# type: ignore[call-arg]  # mypy is not smart enough here\u001b[39;00m\n\u001b[1;32m--> 229\u001b[0m \u001b[39mraise\u001b[39;00m exception_class(message, screen, stacktrace)\n",
      "\u001b[1;31mInvalidSelectorException\u001b[0m: Message: invalid selector: Unable to locate an element with the xpath expression /html/body/div[1]/div/div[1]/div/div[3]/div/div/div/div[1]/div[1]/div/div/div[4]/div[2]/div/div[2]/div[3]/div[{p}]/div/div/div/div/div/div/div/div/div/div/div[2]/div/div/div[4]/div/div/div[1]/div/div[1]/div/div[1]/div/span/div/span[2]/span/span because of the following error:\nSyntaxError: Failed to execute 'evaluate' on 'Document': The string '/html/body/div[1]/div/div[1]/div/div[3]/div/div/div/div[1]/div[1]/div/div/div[4]/div[2]/div/div[2]/div[3]/div[{p}]/div/div/div/div/div/div/div/div/div/div/div[2]/div/div/div[4]/div/div/div[1]/div/div[1]/div/div[1]/div/span/div/span[2]/span/span' is not a valid XPath expression.\n  (Session info: chrome=116.0.5845.179); For documentation on this error, please visit: https://www.selenium.dev/documentation/webdriver/troubleshooting/errors#invalid-selector-exception\nStacktrace:\n\tGetHandleVerifier [0x00007FF7AF9352A2+57122]\n\t(No symbol) [0x00007FF7AF8AEA92]\n\t(No symbol) [0x00007FF7AF77E3AB]\n\t(No symbol) [0x00007FF7AF782382]\n\t(No symbol) [0x00007FF7AF783D2F]\n\t(No symbol) [0x00007FF7AF783E20]\n\t(No symbol) [0x00007FF7AF7B79B1]\n\t(No symbol) [0x00007FF7AF7B7E2C]\n\t(No symbol) [0x00007FF7AF7F0B67]\n\t(No symbol) [0x00007FF7AF7D701F]\n\t(No symbol) [0x00007FF7AF7EEB82]\n\t(No symbol) [0x00007FF7AF7D6DB3]\n\t(No symbol) [0x00007FF7AF7AD2B1]\n\t(No symbol) [0x00007FF7AF7AE494]\n\tGetHandleVerifier [0x00007FF7AFBDEF82+2849794]\n\tGetHandleVerifier [0x00007FF7AFC31D24+3189156]\n\tGetHandleVerifier [0x00007FF7AFC2ACAF+3160367]\n\tGetHandleVerifier [0x00007FF7AF9C6D06+653702]\n\t(No symbol) [0x00007FF7AF8BA208]\n\t(No symbol) [0x00007FF7AF8B62C4]\n\t(No symbol) [0x00007FF7AF8B63F6]\n\t(No symbol) [0x00007FF7AF8A67A3]\n\tBaseThreadInitThunk [0x00007FFB27317034+20]\n\tRtlUserThreadStart [0x00007FFB286426A1+33]\n"
     ]
    }
   ],
   "source": [
    "for p in range(1, 2):\n",
    "    p = str(p)\n",
    "    selfelement = browser.find_element(By.XPATH,\"/html/body/div[1]/div/div[1]/div/div[3]/div/div/div/div[1]/div[1]/div/div/div[4]/div[2]/div/div[2]/div[3]/div[\"+str(p)+\"]/div/div/div/div/div/div/div/div/div/div/div[2]/div/div/div[4]/div/div/div[1]/div/div[1]/div/div[1]/div/span/div/span[2]/span/span\")\n"
   ]
  },
  {
   "cell_type": "code",
   "execution_count": 10,
   "metadata": {},
   "outputs": [],
   "source": [
    "i = '2'\n",
    "element = browser.find_element(\n",
    "                By.XPATH, \"/html/body/div[1]/div/div[1]/div/div[3]/div/div/div/div[1]/div[1]/div/div/div[4]/div[2]/div/div[2]/div[3]/div[\"+str(i)+\"]/div/div/div/div/div/div/div/div/div/div/div[2]/div/div/div[4]/div/div/div[1]/div/div[1]/div/div[1]/div/span/div/span[2]/span/span\")"
   ]
  },
  {
   "cell_type": "code",
   "execution_count": 11,
   "metadata": {},
   "outputs": [],
   "source": [
    "actions = ActionChains(browser)\n",
    "actions.move_to_element(element).perform()"
   ]
  },
  {
   "cell_type": "code",
   "execution_count": 16,
   "metadata": {},
   "outputs": [
    {
     "data": {
      "text/plain": [
       "29"
      ]
     },
     "execution_count": 16,
     "metadata": {},
     "output_type": "execute_result"
    }
   ],
   "source": [
    "int(element.text)"
   ]
  },
  {
   "cell_type": "code",
   "execution_count": 12,
   "metadata": {},
   "outputs": [],
   "source": [
    "element.click()"
   ]
  },
  {
   "cell_type": "code",
   "execution_count": 13,
   "metadata": {},
   "outputs": [
    {
     "name": "stdout",
     "output_type": "stream",
     "text": [
      "<selenium.webdriver.remote.webelement.WebElement (session=\"c0827cdfc369eb91fd93edd0ea9f47f6\", element=\"EAFAA0439BD75B90F245A5FD3927FD61_element_539\")>\n"
     ]
    }
   ],
   "source": [
    "scr1 = browser.find_element(By.XPATH,\"/html/body/div[1]/div/div[1]/div/div[4]/div/div/div[1]/div/div[2]/div/div/div\")\n",
    "# browser.execute_script(\"arguments[0].scrollTop = arguments[0].scrollHeight\", scr1)\n",
    "print(scr1)"
   ]
  },
  {
   "cell_type": "code",
   "execution_count": 14,
   "metadata": {},
   "outputs": [],
   "source": [
    "link = browser.find_element(By.XPATH, \"/html/body/div[1]/div/div[1]/div/div[4]/div/div/div[1]/div/div[2]/div/div/div/div/div/div/div[2]/div[2]/div[3]/div/div[1]/div[\"+str(9)+\"]/div/div/div[2]/div[1]/div/div/div/span/div/a\")\n",
    "actions.move_to_element(element).perform()"
   ]
  },
  {
   "cell_type": "code",
   "execution_count": 46,
   "metadata": {},
   "outputs": [],
   "source": [
    "element = browser.find_element(By.XPATH, \"\"\"/html/body/div[1]/div/div[1]/div/div[3]/div/div/div/div[1]/div[1]/div/div[1]/div\"\"\")\n",
    "browser.execute_script(\"arguments[0].scrollIntoView(true);\", element);"
   ]
  },
  {
   "cell_type": "code",
   "execution_count": 60,
   "metadata": {},
   "outputs": [],
   "source": [
    "# Tìm phần tử bạn muốn kéo xuống\n",
    "element_to_drag = browser.find_element(By.XPATH,'/html/body/div[1]/div/div[1]/div/div[4]/div/div/div[1]/div/div[2]/div/div/div/div/div/div/div[2]/div[2]/div[3]/div/div[3]/div')  # Thay 'your_element_id' bằng id của phần tử cụ thể\n",
    "\n",
    "# Sử dụng ActionChains để kéo phần tử xuống\n",
    "actions = ActionChains(browser)\n",
    "actions.click_and_hold(element_to_drag).move_by_offset(0, 200).release().perform()"
   ]
  },
  {
   "cell_type": "code",
   "execution_count": null,
   "metadata": {},
   "outputs": [],
   "source": []
  },
  {
   "cell_type": "code",
   "execution_count": 125,
   "metadata": {},
   "outputs": [
    {
     "name": "stdout",
     "output_type": "stream",
     "text": [
      "https://www.facebook.com/profile.php?id=100073673347310&\n",
      "https://www.facebook.com/minhthu.nguyenthi.562329?\n",
      "https://www.facebook.com/quylesi09?\n",
      "https://www.facebook.com/tran.habao.127?\n",
      "https://www.facebook.com/Examm11?\n",
      "https://www.facebook.com/profile.php?id=100033423030038&\n",
      "https://www.facebook.com/nhaca.nguyenngoc.9?\n",
      "https://www.facebook.com/thihongthanh.luu.9?\n",
      "https://www.facebook.com/phuongnguyentriet?\n",
      "https://www.facebook.com/profile.php?id=100069822221272&\n",
      "https://www.facebook.com/vanloi.pham.5245961?\n",
      "https://www.facebook.com/thily.tran.33234?\n",
      "https://www.facebook.com/tram.duongnguyenbao.5?\n",
      "https://www.facebook.com/profile.php?id=100084842107446&\n",
      "https://www.facebook.com/xiu.nguyen.104203?\n",
      "https://www.facebook.com/hoaitam.duongthi?\n",
      "https://www.facebook.com/sy.nguyen.31392410?\n",
      "https://www.facebook.com/troiicho?\n",
      "https://www.facebook.com/hoangtramanhh7673?\n",
      "https://www.facebook.com/havan.vo.965?\n",
      "https://www.facebook.com/hoang.xinhdep?\n",
      "https://www.facebook.com/memecute2912?\n",
      "https://www.facebook.com/mydoan.le.9421?\n",
      "https://www.facebook.com/profile.php?id=100054228500976&\n",
      "https://www.facebook.com/profile.php?id=100004440677058&\n",
      "https://www.facebook.com/ha.ngo.5851?\n",
      "https://www.facebook.com/thaonhi.thaonhi.1650?\n",
      "https://www.facebook.com/profile.php?id=1834991827&\n",
      "28\n"
     ]
    }
   ],
   "source": [
    "l = []\n",
    "\n",
    "for i in range(1,int(element.text)):\n",
    "    link = browser.find_element(By.XPATH, \"/html/body/div[1]/div/div[1]/div/div[4]/div/div/div[1]/div/div[2]/div/div/div/div/div/div/div[2]/div[2]/div[3]/div/div[1]/div[\"+str(i)+\"]/div/div/div[2]/div[1]/div/div/div/span/div/a\")\n",
    "    z = link.get_attribute(\"href\")\n",
    "    z = re.sub(r'__cft__.*', '', z)\n",
    "    l.append(z)\n",
    "    print(z)\n",
    "print(len(l))"
   ]
  },
  {
   "cell_type": "code",
   "execution_count": 20,
   "metadata": {},
   "outputs": [],
   "source": [
    "# Chuyển sang cửa sổ popup\n",
    "popup_window = browser.window_handles[-1]\n",
    "browser.switch_to.window(popup_window)\n"
   ]
  },
  {
   "cell_type": "code",
   "execution_count": 22,
   "metadata": {},
   "outputs": [
    {
     "ename": "NameError",
     "evalue": "name 'l' is not defined",
     "output_type": "error",
     "traceback": [
      "\u001b[1;31m---------------------------------------------------------------------------\u001b[0m",
      "\u001b[1;31mNameError\u001b[0m                                 Traceback (most recent call last)",
      "Cell \u001b[1;32mIn[22], line 1\u001b[0m\n\u001b[1;32m----> 1\u001b[0m \u001b[39mfor\u001b[39;00m i \u001b[39min\u001b[39;00m l: \u001b[39mprint\u001b[39m(i)\n",
      "\u001b[1;31mNameError\u001b[0m: name 'l' is not defined"
     ]
    }
   ],
   "source": [
    "for i in l: print(i)"
   ]
  },
  {
   "cell_type": "code",
   "execution_count": null,
   "metadata": {},
   "outputs": [
    {
     "name": "stderr",
     "output_type": "stream",
     "text": [
      "c:\\Users\\Sysme Hue\\AppData\\Local\\Programs\\Python\\Python310\\lib\\site-packages\\tqdm\\auto.py:21: TqdmWarning: IProgress not found. Please update jupyter and ipywidgets. See https://ipywidgets.readthedocs.io/en/stable/user_install.html\n",
      "  from .autonotebook import tqdm as notebook_tqdm\n"
     ]
    }
   ],
   "source": [
    "# Import thư viện cần thiết\n",
    "from facebook_scraper import get_posts\n",
    "import pandas as pd\n",
    "import matplotlib.pyplot as plt\n",
    "import seaborn as sns"
   ]
  },
  {
   "cell_type": "code",
   "execution_count": 23,
   "metadata": {},
   "outputs": [
    {
     "ename": "NameError",
     "evalue": "name 'userlink' is not defined",
     "output_type": "error",
     "traceback": [
      "\u001b[1;31m---------------------------------------------------------------------------\u001b[0m",
      "\u001b[1;31mNameError\u001b[0m                                 Traceback (most recent call last)",
      "Cell \u001b[1;32mIn[23], line 1\u001b[0m\n\u001b[1;32m----> 1\u001b[0m userlink\u001b[39m.\u001b[39mtext\n",
      "\u001b[1;31mNameError\u001b[0m: name 'userlink' is not defined"
     ]
    }
   ],
   "source": [
    "userlink.text"
   ]
  },
  {
   "cell_type": "code",
   "execution_count": 27,
   "metadata": {},
   "outputs": [],
   "source": [
    "FANPAGE_LINK =  \"DoantruongQuocHoc\"\n"
   ]
  },
  {
   "cell_type": "code",
   "execution_count": 30,
   "metadata": {},
   "outputs": [],
   "source": [
    "post_list = []\n",
    "for post in get_posts(FANPAGE_LINK, \n",
    "                    options={\"comments\": True, \"reactions\": True, \"allow_extra_requests\": True}, \n",
    "                    ):\n",
    "    post_list.append(post)"
   ]
  },
  {
   "cell_type": "code",
   "execution_count": 31,
   "metadata": {},
   "outputs": [
    {
     "data": {
      "text/plain": [
       "[]"
      ]
     },
     "execution_count": 31,
     "metadata": {},
     "output_type": "execute_result"
    }
   ],
   "source": [
    "post_list"
   ]
  },
  {
   "cell_type": "code",
   "execution_count": null,
   "metadata": {},
   "outputs": [],
   "source": []
  }
 ],
 "metadata": {
  "kernelspec": {
   "display_name": "Python 3",
   "language": "python",
   "name": "python3"
  },
  "language_info": {
   "codemirror_mode": {
    "name": "ipython",
    "version": 3
   },
   "file_extension": ".py",
   "mimetype": "text/x-python",
   "name": "python",
   "nbconvert_exporter": "python",
   "pygments_lexer": "ipython3",
   "version": "3.10.7"
  },
  "orig_nbformat": 4
 },
 "nbformat": 4,
 "nbformat_minor": 2
}
